{
 "cells": [
  {
   "cell_type": "code",
   "execution_count": 3,
   "id": "a7c13a01-0d4f-4a36-b1fc-b28c6eb3f804",
   "metadata": {
    "tags": []
   },
   "outputs": [
    {
     "name": "stdout",
     "output_type": "stream",
     "text": [
      "    Gender Married     Education  ApplicantIncome  LoanAmount  Credit_History  \\\n",
      "0     Male     Yes      Graduate             5000         200               1   \n",
      "1   Female      No  Not Graduate             3000         100               0   \n",
      "2     Male     Yes      Graduate             6000         250               1   \n",
      "3     Male     Yes      Graduate             4000         150               1   \n",
      "4   Female      No  Not Graduate             2500          80               0   \n",
      "5   Female     Yes      Graduate             4500         120               1   \n",
      "6     Male     Yes      Graduate             7000         300               1   \n",
      "7   Female      No      Graduate             3000         110               0   \n",
      "8     Male     Yes  Not Graduate             2000          60               0   \n",
      "9     Male     Yes      Graduate             8000         260               1   \n",
      "10  Female     Yes      Graduate             4200         140               1   \n",
      "11    Male      No      Graduate             3900         130               1   \n",
      "12  Female     Yes  Not Graduate             3500         100               0   \n",
      "13    Male     Yes      Graduate             4500         160               1   \n",
      "14    Male     Yes      Graduate             6800         290               1   \n",
      "15  Female      No      Graduate             5200         180               1   \n",
      "16    Male     Yes  Not Graduate             3300          90               0   \n",
      "17  Female      No      Graduate             4700         170               1   \n",
      "18    Male     Yes      Graduate             4100         150               1   \n",
      "19  Female     Yes  Not Graduate             2900         100               0   \n",
      "20    Male     Yes      Graduate             7300         310               1   \n",
      "21    Male      No      Graduate             2700          85               0   \n",
      "22  Female     Yes  Not Graduate             6200         270               1   \n",
      "23    Male     Yes      Graduate             5500         200               1   \n",
      "24  Female      No  Not Graduate             3100         105               0   \n",
      "\n",
      "   Loan_Status  \n",
      "0            Y  \n",
      "1            N  \n",
      "2            Y  \n",
      "3            Y  \n",
      "4            N  \n",
      "5            Y  \n",
      "6            Y  \n",
      "7            N  \n",
      "8            N  \n",
      "9            Y  \n",
      "10           Y  \n",
      "11           Y  \n",
      "12           N  \n",
      "13           Y  \n",
      "14           Y  \n",
      "15           Y  \n",
      "16           N  \n",
      "17           Y  \n",
      "18           Y  \n",
      "19           N  \n",
      "20           Y  \n",
      "21           N  \n",
      "22           Y  \n",
      "23           Y  \n",
      "24           N  \n"
     ]
    }
   ],
   "source": [
    "import pandas as pd\n",
    "from sklearn.tree import DecisionTreeClassifier\n",
    "from sklearn.preprocessing import LabelEncoder\n",
    "from sklearn.model_selection import train_test_split\n",
    "from sklearn.metrics import accuracy_score\n",
    "\n",
    "data = {\n",
    "    'Gender':         ['Male', 'Female', 'Male', 'Male', 'Female', 'Female', 'Male', 'Female', 'Male', 'Male',\n",
    "                       'Female', 'Male', 'Female', 'Male', 'Male', 'Female', 'Male', 'Female', 'Male', 'Female',\n",
    "                       'Male', 'Male', 'Female', 'Male', 'Female'],\n",
    "    'Married':        ['Yes', 'No', 'Yes', 'Yes', 'No', 'Yes', 'Yes', 'No', 'Yes', 'Yes',\n",
    "                       'Yes', 'No', 'Yes', 'Yes', 'Yes', 'No', 'Yes', 'No', 'Yes', 'Yes',\n",
    "                       'Yes', 'No', 'Yes', 'Yes', 'No'],\n",
    "    'Education':      ['Graduate', 'Not Graduate', 'Graduate', 'Graduate', 'Not Graduate', 'Graduate', 'Graduate', 'Graduate', 'Not Graduate', 'Graduate',\n",
    "                       'Graduate', 'Graduate', 'Not Graduate', 'Graduate', 'Graduate', 'Graduate', 'Not Graduate', 'Graduate', 'Graduate', 'Not Graduate',\n",
    "                       'Graduate', 'Graduate', 'Not Graduate', 'Graduate', 'Not Graduate'],\n",
    "    'ApplicantIncome':[5000, 3000, 6000, 4000, 2500, 4500, 7000, 3000, 2000, 8000,\n",
    "                       4200, 3900, 3500, 4500, 6800, 5200, 3300, 4700, 4100, 2900,\n",
    "                       7300, 2700, 6200, 5500, 3100],\n",
    "    'LoanAmount':     [200, 100, 250, 150, 80, 120, 300, 110, 60, 260,\n",
    "                       140, 130, 100, 160, 290, 180, 90, 170, 150, 100,\n",
    "                       310, 85, 270, 200, 105],\n",
    "    'Credit_History': [1, 0, 1, 1, 0, 1, 1, 0, 0, 1,\n",
    "                       1, 1, 0, 1, 1, 1, 0, 1, 1, 0,\n",
    "                       1, 0, 1, 1, 0],\n",
    "    'Loan_Status':    ['Y', 'N', 'Y', 'Y', 'N', 'Y', 'Y', 'N', 'N', 'Y',\n",
    "                       'Y', 'Y', 'N', 'Y', 'Y', 'Y', 'N', 'Y', 'Y', 'N',\n",
    "                       'Y', 'N', 'Y', 'Y', 'N']\n",
    "}\n",
    "df=pd.DataFrame(data)\n",
    "print(df)"
   ]
  },
  {
   "cell_type": "code",
   "execution_count": 4,
   "id": "e305fd25-7b4d-4243-875a-454c678b5063",
   "metadata": {
    "tags": []
   },
   "outputs": [],
   "source": [
    "# Encode categorical variables\n",
    "le = LabelEncoder()\n",
    "df['Gender'] = le.fit_transform(df['Gender'])\n",
    "df['Married'] = le.fit_transform(df['Married'])\n",
    "df['Education'] = le.fit_transform(df['Education'])\n",
    "df['Loan_Status'] = le.fit_transform(df['Loan_Status'])"
   ]
  },
  {
   "cell_type": "code",
   "execution_count": 5,
   "id": "93bd4ae2-c5cd-4b29-a752-8371adc7b971",
   "metadata": {
    "tags": []
   },
   "outputs": [],
   "source": [
    "#Define Futures And Labels\n",
    "x=df.drop('Loan_Status',axis=1)\n",
    "y=df['Loan_Status']"
   ]
  },
  {
   "cell_type": "code",
   "execution_count": 13,
   "id": "f1cf0905-823d-4047-96b9-76c52e51674f",
   "metadata": {
    "tags": []
   },
   "outputs": [],
   "source": [
    "# Split the data\n",
    "x_train,x_test,y_train,y_test=train_test_split(x,y,test_size=0.2,random_state=42)"
   ]
  },
  {
   "cell_type": "code",
   "execution_count": 7,
   "id": "0b19aeae-8cb3-4a82-a7f7-c26837e81db3",
   "metadata": {
    "tags": []
   },
   "outputs": [
    {
     "data": {
      "text/html": [
       "<style>#sk-container-id-1 {color: black;}#sk-container-id-1 pre{padding: 0;}#sk-container-id-1 div.sk-toggleable {background-color: white;}#sk-container-id-1 label.sk-toggleable__label {cursor: pointer;display: block;width: 100%;margin-bottom: 0;padding: 0.3em;box-sizing: border-box;text-align: center;}#sk-container-id-1 label.sk-toggleable__label-arrow:before {content: \"▸\";float: left;margin-right: 0.25em;color: #696969;}#sk-container-id-1 label.sk-toggleable__label-arrow:hover:before {color: black;}#sk-container-id-1 div.sk-estimator:hover label.sk-toggleable__label-arrow:before {color: black;}#sk-container-id-1 div.sk-toggleable__content {max-height: 0;max-width: 0;overflow: hidden;text-align: left;background-color: #f0f8ff;}#sk-container-id-1 div.sk-toggleable__content pre {margin: 0.2em;color: black;border-radius: 0.25em;background-color: #f0f8ff;}#sk-container-id-1 input.sk-toggleable__control:checked~div.sk-toggleable__content {max-height: 200px;max-width: 100%;overflow: auto;}#sk-container-id-1 input.sk-toggleable__control:checked~label.sk-toggleable__label-arrow:before {content: \"▾\";}#sk-container-id-1 div.sk-estimator input.sk-toggleable__control:checked~label.sk-toggleable__label {background-color: #d4ebff;}#sk-container-id-1 div.sk-label input.sk-toggleable__control:checked~label.sk-toggleable__label {background-color: #d4ebff;}#sk-container-id-1 input.sk-hidden--visually {border: 0;clip: rect(1px 1px 1px 1px);clip: rect(1px, 1px, 1px, 1px);height: 1px;margin: -1px;overflow: hidden;padding: 0;position: absolute;width: 1px;}#sk-container-id-1 div.sk-estimator {font-family: monospace;background-color: #f0f8ff;border: 1px dotted black;border-radius: 0.25em;box-sizing: border-box;margin-bottom: 0.5em;}#sk-container-id-1 div.sk-estimator:hover {background-color: #d4ebff;}#sk-container-id-1 div.sk-parallel-item::after {content: \"\";width: 100%;border-bottom: 1px solid gray;flex-grow: 1;}#sk-container-id-1 div.sk-label:hover label.sk-toggleable__label {background-color: #d4ebff;}#sk-container-id-1 div.sk-serial::before {content: \"\";position: absolute;border-left: 1px solid gray;box-sizing: border-box;top: 0;bottom: 0;left: 50%;z-index: 0;}#sk-container-id-1 div.sk-serial {display: flex;flex-direction: column;align-items: center;background-color: white;padding-right: 0.2em;padding-left: 0.2em;position: relative;}#sk-container-id-1 div.sk-item {position: relative;z-index: 1;}#sk-container-id-1 div.sk-parallel {display: flex;align-items: stretch;justify-content: center;background-color: white;position: relative;}#sk-container-id-1 div.sk-item::before, #sk-container-id-1 div.sk-parallel-item::before {content: \"\";position: absolute;border-left: 1px solid gray;box-sizing: border-box;top: 0;bottom: 0;left: 50%;z-index: -1;}#sk-container-id-1 div.sk-parallel-item {display: flex;flex-direction: column;z-index: 1;position: relative;background-color: white;}#sk-container-id-1 div.sk-parallel-item:first-child::after {align-self: flex-end;width: 50%;}#sk-container-id-1 div.sk-parallel-item:last-child::after {align-self: flex-start;width: 50%;}#sk-container-id-1 div.sk-parallel-item:only-child::after {width: 0;}#sk-container-id-1 div.sk-dashed-wrapped {border: 1px dashed gray;margin: 0 0.4em 0.5em 0.4em;box-sizing: border-box;padding-bottom: 0.4em;background-color: white;}#sk-container-id-1 div.sk-label label {font-family: monospace;font-weight: bold;display: inline-block;line-height: 1.2em;}#sk-container-id-1 div.sk-label-container {text-align: center;}#sk-container-id-1 div.sk-container {/* jupyter's `normalize.less` sets `[hidden] { display: none; }` but bootstrap.min.css set `[hidden] { display: none !important; }` so we also need the `!important` here to be able to override the default hidden behavior on the sphinx rendered scikit-learn.org. See: https://github.com/scikit-learn/scikit-learn/issues/21755 */display: inline-block !important;position: relative;}#sk-container-id-1 div.sk-text-repr-fallback {display: none;}</style><div id=\"sk-container-id-1\" class=\"sk-top-container\"><div class=\"sk-text-repr-fallback\"><pre>DecisionTreeClassifier()</pre><b>In a Jupyter environment, please rerun this cell to show the HTML representation or trust the notebook. <br />On GitHub, the HTML representation is unable to render, please try loading this page with nbviewer.org.</b></div><div class=\"sk-container\" hidden><div class=\"sk-item\"><div class=\"sk-estimator sk-toggleable\"><input class=\"sk-toggleable__control sk-hidden--visually\" id=\"sk-estimator-id-1\" type=\"checkbox\" checked><label for=\"sk-estimator-id-1\" class=\"sk-toggleable__label sk-toggleable__label-arrow\">DecisionTreeClassifier</label><div class=\"sk-toggleable__content\"><pre>DecisionTreeClassifier()</pre></div></div></div></div></div>"
      ],
      "text/plain": [
       "DecisionTreeClassifier()"
      ]
     },
     "execution_count": 7,
     "metadata": {},
     "output_type": "execute_result"
    }
   ],
   "source": [
    "# Train Decision Tree model\n",
    "model=DecisionTreeClassifier()\n",
    "model.fit(x_train,y_train)"
   ]
  },
  {
   "cell_type": "code",
   "execution_count": 14,
   "id": "b8281898-503c-4ca2-b5df-70d889891fc9",
   "metadata": {
    "tags": []
   },
   "outputs": [
    {
     "name": "stdout",
     "output_type": "stream",
     "text": [
      "Actual : 8     0\n",
      "16    0\n",
      "0     1\n",
      "23    1\n",
      "11    1\n",
      "Name: Loan_Status, dtype: int64 , Predicted : [0 0 1 1 1]\n",
      "1.0\n"
     ]
    }
   ],
   "source": [
    "# Predict and evaluate\n",
    "y_pred=model.predict(x_test)\n",
    "accuracy=accuracy_score(y_test, y_pred)\n",
    "print(f\"Actual : {y_test} , Predicted : {y_pred}\")\n",
    "print(accuracy)"
   ]
  },
  {
   "cell_type": "code",
   "execution_count": null,
   "id": "08306fc1-b140-419b-bf15-cd4c88aa8c02",
   "metadata": {},
   "outputs": [],
   "source": []
  }
 ],
 "metadata": {
  "kernelspec": {
   "display_name": "Python 3 (ipykernel)",
   "language": "python",
   "name": "python3"
  },
  "language_info": {
   "codemirror_mode": {
    "name": "ipython",
    "version": 3
   },
   "file_extension": ".py",
   "mimetype": "text/x-python",
   "name": "python",
   "nbconvert_exporter": "python",
   "pygments_lexer": "ipython3",
   "version": "3.11.5"
  }
 },
 "nbformat": 4,
 "nbformat_minor": 5
}
