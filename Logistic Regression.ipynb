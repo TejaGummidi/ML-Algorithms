{
 "cells": [
  {
   "cell_type": "code",
   "execution_count": 2,
   "id": "d5fe8a3c-e808-4579-b004-f8f6b79be4fd",
   "metadata": {
    "tags": []
   },
   "outputs": [
    {
     "name": "stdout",
     "output_type": "stream",
     "text": [
      "    Glucose  BloodPressure   BMI  Insulin  SkinThickness  Age  Diabetes\n",
      "0       120             70  25.3       80             20   35         0\n",
      "1        85             80  30.1       90             22   25         0\n",
      "2       145             75  35.5      150             35   50         1\n",
      "3       130             85  28.4      120             30   45         1\n",
      "4        95             76  27.0       85             21   28         0\n",
      "5       110             74  29.2      110             26   30         0\n",
      "6       150             90  36.7      170             40   52         1\n",
      "7       140             78  33.8      160             37   48         1\n",
      "8       100             72  31.1      100             24   33         0\n",
      "9       125             88  34.2      130             32   40         1\n",
      "10       90             77  26.4       75             23   26         0\n",
      "11      160             95  38.5      180             42   55         1\n",
      "12      135             85  29.9      140             28   42         1\n",
      "13      105             70  28.0       95             25   29         0\n",
      "14       99             73  27.5       88             22   31         0\n",
      "15       89             71  24.9       78             21   24         0\n",
      "16      155             92  39.1      175             39   53         1\n",
      "17      170             96  40.2      190             44   58         1\n",
      "18      112             75  32.5      105             27   34         0\n",
      "19      121             79  30.0      115             29   36         1\n"
     ]
    }
   ],
   "source": [
    "import pandas as pd\n",
    "from sklearn.linear_model import LogisticRegression\n",
    "from sklearn.model_selection import train_test_split\n",
    "from sklearn.metrics import accuracy_score,classification_report,confusion_matrix\n",
    "import seaborn as sns\n",
    "import matplotlib.pyplot as plt\n",
    "data = {\n",
    "    \"Glucose\": [120, 85, 145, 130, 95, 110, 150, 140, 100, 125, 90, 160, 135, 105, 99, 89, 155, 170, 112, 121],\n",
    "    \"BloodPressure\": [70, 80, 75, 85, 76, 74, 90, 78, 72, 88, 77, 95, 85, 70, 73, 71, 92, 96, 75, 79],\n",
    "    \"BMI\": [25.3, 30.1, 35.5, 28.4, 27.0, 29.2, 36.7, 33.8, 31.1, 34.2, 26.4, 38.5, 29.9, 28.0, 27.5, 24.9, 39.1, 40.2, 32.5, 30.0],\n",
    "    \"Insulin\": [80, 90, 150, 120, 85, 110, 170, 160, 100, 130, 75, 180, 140, 95, 88, 78, 175, 190, 105, 115],\n",
    "    \"SkinThickness\": [20, 22, 35, 30, 21, 26, 40, 37, 24, 32, 23, 42, 28, 25, 22, 21, 39, 44, 27, 29],\n",
    "    \"Age\": [35, 25, 50, 45, 28, 30, 52, 48, 33, 40, 26, 55, 42, 29, 31, 24, 53, 58, 34, 36],\n",
    "    \"Diabetes\": [0, 0, 1, 1, 0, 0, 1, 1, 0, 1, 0, 1, 1, 0, 0, 0, 1, 1, 0, 1]\n",
    "}\n",
    "df=pd.DataFrame(data)\n",
    "print(df)"
   ]
  },
  {
   "cell_type": "code",
   "execution_count": 4,
   "id": "4fc9d0a0-d379-4645-8164-ac49421c6af7",
   "metadata": {
    "tags": []
   },
   "outputs": [
    {
     "name": "stdout",
     "output_type": "stream",
     "text": [
      "    Glucose  BloodPressure   BMI  Insulin  SkinThickness  Age\n",
      "0       120             70  25.3       80             20   35\n",
      "1        85             80  30.1       90             22   25\n",
      "2       145             75  35.5      150             35   50\n",
      "3       130             85  28.4      120             30   45\n",
      "4        95             76  27.0       85             21   28\n",
      "5       110             74  29.2      110             26   30\n",
      "6       150             90  36.7      170             40   52\n",
      "7       140             78  33.8      160             37   48\n",
      "8       100             72  31.1      100             24   33\n",
      "9       125             88  34.2      130             32   40\n",
      "10       90             77  26.4       75             23   26\n",
      "11      160             95  38.5      180             42   55\n",
      "12      135             85  29.9      140             28   42\n",
      "13      105             70  28.0       95             25   29\n",
      "14       99             73  27.5       88             22   31\n",
      "15       89             71  24.9       78             21   24\n",
      "16      155             92  39.1      175             39   53\n",
      "17      170             96  40.2      190             44   58\n",
      "18      112             75  32.5      105             27   34\n",
      "19      121             79  30.0      115             29   36\n",
      "---------------------------------------------------------\n",
      "0     0\n",
      "1     0\n",
      "2     1\n",
      "3     1\n",
      "4     0\n",
      "5     0\n",
      "6     1\n",
      "7     1\n",
      "8     0\n",
      "9     1\n",
      "10    0\n",
      "11    1\n",
      "12    1\n",
      "13    0\n",
      "14    0\n",
      "15    0\n",
      "16    1\n",
      "17    1\n",
      "18    0\n",
      "19    1\n",
      "Name: Diabetes, dtype: int64\n"
     ]
    }
   ],
   "source": [
    "# Step 3: Feature / Target Split\n",
    "x=df.drop(\"Diabetes\",axis=1)\n",
    "y=df[\"Diabetes\"]\n",
    "print(x)\n",
    "print(\"---------------------------------------------------------\")\n",
    "print(y)"
   ]
  },
  {
   "cell_type": "code",
   "execution_count": 5,
   "id": "7cee6182-5ef9-479f-ac09-c119908ddd69",
   "metadata": {
    "tags": []
   },
   "outputs": [
    {
     "data": {
      "text/html": [
       "<style>#sk-container-id-1 {color: black;}#sk-container-id-1 pre{padding: 0;}#sk-container-id-1 div.sk-toggleable {background-color: white;}#sk-container-id-1 label.sk-toggleable__label {cursor: pointer;display: block;width: 100%;margin-bottom: 0;padding: 0.3em;box-sizing: border-box;text-align: center;}#sk-container-id-1 label.sk-toggleable__label-arrow:before {content: \"▸\";float: left;margin-right: 0.25em;color: #696969;}#sk-container-id-1 label.sk-toggleable__label-arrow:hover:before {color: black;}#sk-container-id-1 div.sk-estimator:hover label.sk-toggleable__label-arrow:before {color: black;}#sk-container-id-1 div.sk-toggleable__content {max-height: 0;max-width: 0;overflow: hidden;text-align: left;background-color: #f0f8ff;}#sk-container-id-1 div.sk-toggleable__content pre {margin: 0.2em;color: black;border-radius: 0.25em;background-color: #f0f8ff;}#sk-container-id-1 input.sk-toggleable__control:checked~div.sk-toggleable__content {max-height: 200px;max-width: 100%;overflow: auto;}#sk-container-id-1 input.sk-toggleable__control:checked~label.sk-toggleable__label-arrow:before {content: \"▾\";}#sk-container-id-1 div.sk-estimator input.sk-toggleable__control:checked~label.sk-toggleable__label {background-color: #d4ebff;}#sk-container-id-1 div.sk-label input.sk-toggleable__control:checked~label.sk-toggleable__label {background-color: #d4ebff;}#sk-container-id-1 input.sk-hidden--visually {border: 0;clip: rect(1px 1px 1px 1px);clip: rect(1px, 1px, 1px, 1px);height: 1px;margin: -1px;overflow: hidden;padding: 0;position: absolute;width: 1px;}#sk-container-id-1 div.sk-estimator {font-family: monospace;background-color: #f0f8ff;border: 1px dotted black;border-radius: 0.25em;box-sizing: border-box;margin-bottom: 0.5em;}#sk-container-id-1 div.sk-estimator:hover {background-color: #d4ebff;}#sk-container-id-1 div.sk-parallel-item::after {content: \"\";width: 100%;border-bottom: 1px solid gray;flex-grow: 1;}#sk-container-id-1 div.sk-label:hover label.sk-toggleable__label {background-color: #d4ebff;}#sk-container-id-1 div.sk-serial::before {content: \"\";position: absolute;border-left: 1px solid gray;box-sizing: border-box;top: 0;bottom: 0;left: 50%;z-index: 0;}#sk-container-id-1 div.sk-serial {display: flex;flex-direction: column;align-items: center;background-color: white;padding-right: 0.2em;padding-left: 0.2em;position: relative;}#sk-container-id-1 div.sk-item {position: relative;z-index: 1;}#sk-container-id-1 div.sk-parallel {display: flex;align-items: stretch;justify-content: center;background-color: white;position: relative;}#sk-container-id-1 div.sk-item::before, #sk-container-id-1 div.sk-parallel-item::before {content: \"\";position: absolute;border-left: 1px solid gray;box-sizing: border-box;top: 0;bottom: 0;left: 50%;z-index: -1;}#sk-container-id-1 div.sk-parallel-item {display: flex;flex-direction: column;z-index: 1;position: relative;background-color: white;}#sk-container-id-1 div.sk-parallel-item:first-child::after {align-self: flex-end;width: 50%;}#sk-container-id-1 div.sk-parallel-item:last-child::after {align-self: flex-start;width: 50%;}#sk-container-id-1 div.sk-parallel-item:only-child::after {width: 0;}#sk-container-id-1 div.sk-dashed-wrapped {border: 1px dashed gray;margin: 0 0.4em 0.5em 0.4em;box-sizing: border-box;padding-bottom: 0.4em;background-color: white;}#sk-container-id-1 div.sk-label label {font-family: monospace;font-weight: bold;display: inline-block;line-height: 1.2em;}#sk-container-id-1 div.sk-label-container {text-align: center;}#sk-container-id-1 div.sk-container {/* jupyter's `normalize.less` sets `[hidden] { display: none; }` but bootstrap.min.css set `[hidden] { display: none !important; }` so we also need the `!important` here to be able to override the default hidden behavior on the sphinx rendered scikit-learn.org. See: https://github.com/scikit-learn/scikit-learn/issues/21755 */display: inline-block !important;position: relative;}#sk-container-id-1 div.sk-text-repr-fallback {display: none;}</style><div id=\"sk-container-id-1\" class=\"sk-top-container\"><div class=\"sk-text-repr-fallback\"><pre>LogisticRegression()</pre><b>In a Jupyter environment, please rerun this cell to show the HTML representation or trust the notebook. <br />On GitHub, the HTML representation is unable to render, please try loading this page with nbviewer.org.</b></div><div class=\"sk-container\" hidden><div class=\"sk-item\"><div class=\"sk-estimator sk-toggleable\"><input class=\"sk-toggleable__control sk-hidden--visually\" id=\"sk-estimator-id-1\" type=\"checkbox\" checked><label for=\"sk-estimator-id-1\" class=\"sk-toggleable__label sk-toggleable__label-arrow\">LogisticRegression</label><div class=\"sk-toggleable__content\"><pre>LogisticRegression()</pre></div></div></div></div></div>"
      ],
      "text/plain": [
       "LogisticRegression()"
      ]
     },
     "execution_count": 5,
     "metadata": {},
     "output_type": "execute_result"
    }
   ],
   "source": [
    "# Step 4: Train-Test Split\n",
    "x_train,x_test,y_train,y_test=train_test_split(x,y,test_size=0.2,random_state=42)\n",
    "model=LogisticRegression()\n",
    "model.fit(x_train,y_train)"
   ]
  },
  {
   "cell_type": "code",
   "execution_count": 10,
   "id": "08b1bb72-9cb3-4e50-a01e-91de9d0513ba",
   "metadata": {
    "tags": []
   },
   "outputs": [
    {
     "name": "stdout",
     "output_type": "stream",
     "text": [
      "[0 1 0 0]\n",
      " \n",
      "[[9.99880944e-01 1.19056225e-04]\n",
      " [0.00000000e+00 1.00000000e+00]\n",
      " [1.00000000e+00 2.37657886e-10]\n",
      " [9.99999993e-01 7.11965332e-09]]\n"
     ]
    }
   ],
   "source": [
    "y_pred=model.predict(x_test)\n",
    "print(y_pred)\n",
    "print(\" \")\n",
    "y_proba=model.predict_proba(x_test)\n",
    "print(y_proba)"
   ]
  },
  {
   "cell_type": "code",
   "execution_count": 13,
   "id": "9e18af3e-5c1a-4097-888b-6be91d5faf12",
   "metadata": {
    "tags": []
   },
   "outputs": [
    {
     "name": "stdout",
     "output_type": "stream",
     "text": [
      " Actual : 0     0\n",
      "17    1\n",
      "15    0\n",
      "1     0\n",
      "Name: Diabetes, dtype: int64 and Predicted : [0 1 0 0]\n"
     ]
    }
   ],
   "source": [
    "print(f\" Actual : {y_test} and Predicted : {y_pred}\")"
   ]
  },
  {
   "cell_type": "code",
   "execution_count": 16,
   "id": "9dc5084f-7bfb-443e-aa0b-e87083750207",
   "metadata": {
    "tags": []
   },
   "outputs": [
    {
     "name": "stdout",
     "output_type": "stream",
     "text": [
      "Accuracy Score : 1.0\n",
      "\n",
      "Confusion Matrix : [[3 0]\n",
      " [0 1]]\n",
      "\n",
      "Classification Report :               precision    recall  f1-score   support\n",
      "\n",
      "           0       1.00      1.00      1.00         3\n",
      "           1       1.00      1.00      1.00         1\n",
      "\n",
      "    accuracy                           1.00         4\n",
      "   macro avg       1.00      1.00      1.00         4\n",
      "weighted avg       1.00      1.00      1.00         4\n",
      "\n"
     ]
    }
   ],
   "source": [
    "# Step 7: Evaluation\n",
    "print(\"Accuracy Score :\",accuracy_score(y_test,y_pred))\n",
    "print(\"\\nConfusion Matrix :\",confusion_matrix(y_test,y_pred))\n",
    "print(\"\\nClassification Report :\",classification_report(y_test,y_pred))"
   ]
  },
  {
   "cell_type": "code",
   "execution_count": 17,
   "id": "b2f6e50d-0b26-4a1a-9a3d-3e781238fc78",
   "metadata": {
    "tags": []
   },
   "outputs": [
    {
     "data": {
      "image/png": "[encoded data removed]",
      "text/plain": [
       "<Figure size 640x480 with 2 Axes>"
      ]
     },
     "metadata": {},
     "output_type": "display_data"
    }
   ],
   "source": [
    "# Step 8: Confusion Matrix Visualization\n",
    "sns.heatmap(confusion_matrix(y_test, y_pred), annot=True, cmap='Blues', fmt='d')\n",
    "plt.title(\"Confusion Matrix\")\n",
    "plt.xlabel(\"Predicted\")\n",
    "plt.ylabel(\"Actual\")\n",
    "plt.show()"
   ]
  },
  {
   "cell_type": "code",
   "execution_count": 18,
   "id": "8a902ca2-cb22-46ff-827b-0d093ec88b54",
   "metadata": {
    "tags": []
   },
   "outputs": [
    {
     "name": "stdout",
     "output_type": "stream",
     "text": [
      "\n",
      "Please enter the following lab values to predict diabetes:\n",
      "\n"
     ]
    },
    {
     "name": "stdin",
     "output_type": "stream",
     "text": [
      "Glucose level:  135\n",
      "Blood Pressure:  85\n",
      "BMI:  31.5\n",
      "Insulin:  140\n",
      "Skin Thickness:  30\n",
      "Age:  45\n"
     ]
    },
    {
     "name": "stdout",
     "output_type": "stream",
     "text": [
      "\n",
      "📊 Prediction Result:\n",
      "→ Diabetes: Positive ✅\n",
      "→ Confidence (Probability of diabetes): 100.00%\n"
     ]
    }
   ],
   "source": [
    "import pandas as pd\n",
    "from sklearn.linear_model import LogisticRegression\n",
    "from sklearn.model_selection import train_test_split\n",
    "from sklearn.metrics import accuracy_score, classification_report, confusion_matrix\n",
    "\n",
    "# Step 1: Create the dataset\n",
    "data = {\n",
    "    \"Glucose\": [120, 85, 145, 130, 95, 110, 150, 140, 100, 125, 90, 160, 135, 105, 99, 89, 155, 170, 112, 121],\n",
    "    \"BloodPressure\": [70, 80, 75, 85, 76, 74, 90, 78, 72, 88, 77, 95, 85, 70, 73, 71, 92, 96, 75, 79],\n",
    "    \"BMI\": [25.3, 30.1, 35.5, 28.4, 27.0, 29.2, 36.7, 33.8, 31.1, 34.2, 26.4, 38.5, 29.9, 28.0, 27.5, 24.9, 39.1, 40.2, 32.5, 30.0],\n",
    "    \"Insulin\": [80, 90, 150, 120, 85, 110, 170, 160, 100, 130, 75, 180, 140, 95, 88, 78, 175, 190, 105, 115],\n",
    "    \"SkinThickness\": [20, 22, 35, 30, 21, 26, 40, 37, 24, 32, 23, 42, 28, 25, 22, 21, 39, 44, 27, 29],\n",
    "    \"Age\": [35, 25, 50, 45, 28, 30, 52, 48, 33, 40, 26, 55, 42, 29, 31, 24, 53, 58, 34, 36],\n",
    "    \"Diabetes\": [0, 0, 1, 1, 0, 0, 1, 1, 0, 1, 0, 1, 1, 0, 0, 0, 1, 1, 0, 1]\n",
    "}\n",
    "df = pd.DataFrame(data)\n",
    "\n",
    "# Step 2: Feature and target split\n",
    "X = df.drop(\"Diabetes\", axis=1)\n",
    "y = df[\"Diabetes\"]\n",
    "\n",
    "# Step 3: Train/test split\n",
    "X_train, X_test, y_train, y_test = train_test_split(X, y, test_size=0.2, random_state=42)\n",
    "\n",
    "# Step 4: Train the Logistic Regression model\n",
    "model = LogisticRegression()\n",
    "model.fit(X_train, y_train)\n",
    "\n",
    "# Step 5: Take input from the user (interactive)\n",
    "print(\"\\nPlease enter the following lab values to predict diabetes:\\n\")\n",
    "glucose = float(input(\"Glucose level: \"))\n",
    "bp = float(input(\"Blood Pressure: \"))\n",
    "bmi = float(input(\"BMI: \"))\n",
    "insulin = float(input(\"Insulin: \"))\n",
    "skin = float(input(\"Skin Thickness: \"))\n",
    "age = int(input(\"Age: \"))\n",
    "\n",
    "# Step 6: Prepare input and predict\n",
    "user_data = pd.DataFrame([{\n",
    "    \"Glucose\": glucose,\n",
    "    \"BloodPressure\": bp,\n",
    "    \"BMI\": bmi,\n",
    "    \"Insulin\": insulin,\n",
    "    \"SkinThickness\": skin,\n",
    "    \"Age\": age\n",
    "}])\n",
    "\n",
    "prediction = model.predict(user_data)[0]\n",
    "proba = model.predict_proba(user_data)[0][1]\n",
    "\n",
    "# Step 7: Output the result\n",
    "print(\"\\n📊 Prediction Result:\")\n",
    "print(\"→ Diabetes:\", \"Positive ✅\" if prediction == 1 else \"Negative ❌\")\n",
    "print(f\"→ Confidence (Probability of diabetes): {proba * 100:.2f}%\")\n"
   ]
  },
  {
   "cell_type": "code",
   "execution_count": null,
   "id": "dd9baf2a-4ef8-45b1-aa68-c8d3366346cd",
   "metadata": {},
   "outputs": [],
   "source": []
  }
 ],
 "metadata": {
  "kernelspec": {
   "display_name": "Python 3 (ipykernel)",
   "language": "python",
   "name": "python3"
  },
  "language_info": {
   "codemirror_mode": {
    "name": "ipython",
    "version": 3
   },
   "file_extension": ".py",
   "mimetype": "text/x-python",
   "name": "python",
   "nbconvert_exporter": "python",
   "pygments_lexer": "ipython3",
   "version": "3.11.5"
  }
 },
 "nbformat": 4,
 "nbformat_minor": 5
}
